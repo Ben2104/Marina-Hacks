{
 "cells": [
  {
   "cell_type": "code",
   "execution_count": 1,
   "id": "aca36a2e",
   "metadata": {},
   "outputs": [
    {
     "name": "stdout",
     "output_type": "stream",
     "text": [
      "🎙️ Recording...\n",
      "✅ Done recording!\n",
      "Saved as audio.wav\n"
     ]
    }
   ],
   "source": [
    "import sounddevice as sd\n",
    "from scipy.io.wavfile import write\n",
    "\n",
    "fs = 16000  # 16 kHz sample rate (works best for speech)\n",
    "seconds = 10  # record for 5 seconds\n",
    "\n",
    "print(\"🎙️ Recording...\")\n",
    "audio = sd.rec(int(seconds * fs), samplerate=fs, channels=1, dtype=\"int16\")\n",
    "sd.wait()\n",
    "print(\"✅ Done recording!\")\n",
    "\n",
    "write(\"audio.wav\", fs, audio)\n",
    "print(\"Saved as audio.wav\")"
   ]
  }
 ],
 "metadata": {
  "kernelspec": {
   "display_name": "operator_aid",
   "language": "python",
   "name": "python3"
  },
  "language_info": {
   "codemirror_mode": {
    "name": "ipython",
    "version": 3
   },
   "file_extension": ".py",
   "mimetype": "text/x-python",
   "name": "python",
   "nbconvert_exporter": "python",
   "pygments_lexer": "ipython3",
   "version": "3.10.19"
  }
 },
 "nbformat": 4,
 "nbformat_minor": 5
}
